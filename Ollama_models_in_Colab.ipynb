{
  "cells": [
    {
      "cell_type": "markdown",
      "metadata": {
        "id": "Io-I-Aa_KRlA"
      },
      "source": [
        "### Reference:\n",
        "https://stackoverflow.com/questions/77697302/how-to-run-ollama-in-google-colab"
      ]
    },
    {
      "cell_type": "code",
      "execution_count": null,
      "metadata": {
        "id": "Xy-YI2tPwQN_"
      },
      "outputs": [],
      "source": [
        "!curl https://ollama.ai/install.sh | sh\n",
        "\n",
        "!echo 'debconf debconf/frontend select Noninteractive' | sudo debconf-set-selections\n",
        "# !sudo apt-get update && sudo apt-get install -y cuda-drivers\n",
        "\n",
        "!pip install pyngrok\n",
        "from pyngrok import ngrok\n",
        "ngrok.set_auth_token(\"<your ngrok token>\")\n",
        "\n",
        "import os\n",
        "import asyncio\n",
        "\n",
        "# # Set LD_LIBRARY_PATH so the system NVIDIA library (for GPU)\n",
        "os.environ.update({'LD_LIBRARY_PATH': '/usr/lib64-nvidia'})\n",
        "\n",
        "async def run_process(cmd):\n",
        "  print('>>> starting', *cmd)\n",
        "  p = await asyncio.subprocess.create_subprocess_exec(\n",
        "      *cmd,\n",
        "      stdout=asyncio.subprocess.PIPE,\n",
        "      stderr=asyncio.subprocess.PIPE,\n",
        "  )\n",
        "\n",
        "  async def pipe(lines):\n",
        "    async for line in lines:\n",
        "      print(line.strip().decode('utf-8'))\n",
        "\n",
        "  await asyncio.gather(\n",
        "      pipe(p.stdout),\n",
        "      pipe(p.stderr),\n",
        "  )\n",
        "from IPython.display import clear_output\n",
        "clear_output()"
      ]
    },
    {
      "cell_type": "code",
      "execution_count": null,
      "metadata": {
        "id": "UcwycxQHyNQ5"
      },
      "outputs": [],
      "source": [
        "await asyncio.gather(\n",
        "run_process(['ollama', 'serve']),\n",
        "run_process(['ollama', 'pull', 'mistral']),\n",
        "run_process(['ngrok', 'http', '--log', 'stderr', '11434', '--host-header=\"localhost:11434\"']))"
      ]
    },
    {
      "cell_type": "code",
      "execution_count": null,
      "metadata": {
        "id": "_Ybea6SL19Zo"
      },
      "outputs": [],
      "source": [
        "# Use this in local IDE\n",
        "llm = ChatOllama(model=\"mistral\", temperature=0, base_url=\"<url from the output in above cell>\")"
      ]
    }
  ],
  "metadata": {
    "accelerator": "GPU",
    "colab": {
      "gpuType": "T4",
      "provenance": []
    },
    "kernelspec": {
      "display_name": "Python 3",
      "name": "python3"
    },
    "language_info": {
      "name": "python"
    }
  },
  "nbformat": 4,
  "nbformat_minor": 0
}
